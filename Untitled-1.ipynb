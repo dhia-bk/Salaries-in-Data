{
 "cells": [
  {
   "cell_type": "code",
   "execution_count": 1,
   "metadata": {},
   "outputs": [],
   "source": [
    "import pandas as pd\n",
    "\n",
    "df = pd.read_csv(r\"C:\\Users\\dhiab\\Downloads\\salaries.csv\")"
   ]
  },
  {
   "cell_type": "code",
   "execution_count": 2,
   "metadata": {},
   "outputs": [
    {
     "name": "stdout",
     "output_type": "stream",
     "text": [
      "work_year             0\n",
      "experience_level      0\n",
      "employment_type       0\n",
      "job_title             0\n",
      "salary                0\n",
      "salary_currency       0\n",
      "salary_in_usd         0\n",
      "employee_residence    0\n",
      "remote_ratio          0\n",
      "company_location      0\n",
      "company_size          0\n",
      "dtype: int64\n"
     ]
    }
   ],
   "source": [
    "missing_values_sum = df.isna().sum()\n",
    "print(missing_values_sum)"
   ]
  },
  {
   "cell_type": "code",
   "execution_count": 3,
   "metadata": {},
   "outputs": [],
   "source": [
    "import pycountry\n",
    "\n",
    "def convert_country_codes(code):\n",
    "        try:\n",
    "            country = pycountry.countries.get(alpha_2=code).name\n",
    "            return country\n",
    "        except KeyError:\n",
    "              return \"Unknown\"\n",
    "           \n",
    "\t\t\t\t\t\t\t\t\t\t\t\n",
    "df['employee_residence'] = df['employee_residence'].apply(convert_country_codes)\n",
    "\n",
    "df['company_location'] = df['company_location'].apply(convert_country_codes)"
   ]
  },
  {
   "cell_type": "code",
   "execution_count": 4,
   "metadata": {},
   "outputs": [],
   "source": [
    "mapping_dict = {\n",
    "    'S': \"Small\",\n",
    "    'M' : \"Medium\",\n",
    "    \"L\" : \"Large\"\n",
    "}\n",
    "\n",
    "df['company_size'] = df['company_size'].map(mapping_dict)"
   ]
  },
  {
   "cell_type": "code",
   "execution_count": 5,
   "metadata": {},
   "outputs": [],
   "source": [
    "experience_mapping = {\n",
    "    'SE': 'Senior',\n",
    "    'MI': 'Mid',\n",
    "    'EN': 'Entry',\n",
    "    'EX': 'Executive'\n",
    "}\n",
    "\n",
    "df['experience_level'] = df['experience_level'].map(experience_mapping)"
   ]
  },
  {
   "cell_type": "code",
   "execution_count": 6,
   "metadata": {},
   "outputs": [],
   "source": [
    "df['job_title'] = df['job_title'].replace('Data Science', 'Data Scientist')"
   ]
  },
  {
   "cell_type": "code",
   "execution_count": 7,
   "metadata": {},
   "outputs": [
    {
     "name": "stdout",
     "output_type": "stream",
     "text": [
      "job_category\n",
      "Engineer      7070\n",
      "Scientist     4888\n",
      "Analyst       2951\n",
      "Head           776\n",
      "Architect      465\n",
      "Other          260\n",
      "Researcher      22\n",
      "Consultant      10\n",
      "Associate        9\n",
      "Owner            8\n",
      "Name: count, dtype: int64\n"
     ]
    }
   ],
   "source": [
    "categories = {\n",
    "    'Engineer': ['Engineer','Programmer','Developer'],\n",
    "    'Analyst': ['Analyst'],\n",
    "    'Head': ['Manager', 'Director', 'Lead', 'Specialist','Administrator','Coordinator'],\n",
    "    'Scientist': ['Scientist', 'Science'],\n",
    "    'Consultant': ['Consultant'],\n",
    "    'Architect': ['Architect'],\n",
    "    'Researcher': ['Researcher'],\n",
    "    'Owner': ['Owner'],\n",
    "    'Associate': ['Associate','Technician'],\n",
    "}\n",
    "\n",
    "def map_to_category(job_title):\n",
    "    for category, keywords in categories.items():\n",
    "        for keyword in keywords:\n",
    "            if keyword.lower() in job_title.lower():\n",
    "                return category\n",
    "    return 'Other'\n",
    "\n",
    "df['job_category'] = df['job_title'].apply(map_to_category)\n",
    "\n",
    "category_counts = df['job_category'].value_counts()\n",
    "\n",
    "print(category_counts)"
   ]
  },
  {
   "cell_type": "code",
   "execution_count": 8,
   "metadata": {},
   "outputs": [],
   "source": [
    "df['remote_ratio'] = df['remote_ratio'].astype(str)\n",
    "\n",
    "remote_ratio_mapping = {\n",
    "    '100' : 'Remote',\n",
    "    '50' : 'Hybrid',\n",
    "    '0' : 'On-Site'\n",
    "}\n",
    "\n",
    "df['remote_ratio'] = df['remote_ratio'].map(remote_ratio_mapping)"
   ]
  },
  {
   "cell_type": "code",
   "execution_count": 9,
   "metadata": {},
   "outputs": [],
   "source": [
    "ET_mapping = {\n",
    "    'FT' : 'Full Time',\n",
    "    'PT' : 'Part Time',\n",
    "    'CT' : 'Contract',\n",
    "    'FL' : 'Freelance'\n",
    "}\n",
    "\n",
    "df['employment_type'] = df['employment_type'].map(ET_mapping)"
   ]
  },
  {
   "cell_type": "code",
   "execution_count": 10,
   "metadata": {},
   "outputs": [
    {
     "data": {
      "text/html": [
       "<div>\n",
       "<style scoped>\n",
       "    .dataframe tbody tr th:only-of-type {\n",
       "        vertical-align: middle;\n",
       "    }\n",
       "\n",
       "    .dataframe tbody tr th {\n",
       "        vertical-align: top;\n",
       "    }\n",
       "\n",
       "    .dataframe thead th {\n",
       "        text-align: right;\n",
       "    }\n",
       "</style>\n",
       "<table border=\"1\" class=\"dataframe\">\n",
       "  <thead>\n",
       "    <tr style=\"text-align: right;\">\n",
       "      <th></th>\n",
       "      <th>work_year</th>\n",
       "      <th>experience_level</th>\n",
       "      <th>employment_type</th>\n",
       "      <th>job_title</th>\n",
       "      <th>salary</th>\n",
       "      <th>salary_currency</th>\n",
       "      <th>salary_in_usd</th>\n",
       "      <th>employee_residence</th>\n",
       "      <th>remote_ratio</th>\n",
       "      <th>company_location</th>\n",
       "      <th>company_size</th>\n",
       "      <th>job_category</th>\n",
       "    </tr>\n",
       "  </thead>\n",
       "  <tbody>\n",
       "    <tr>\n",
       "      <th>0</th>\n",
       "      <td>2024</td>\n",
       "      <td>Senior</td>\n",
       "      <td>Full Time</td>\n",
       "      <td>Machine Learning Engineer</td>\n",
       "      <td>110000</td>\n",
       "      <td>EUR</td>\n",
       "      <td>122222</td>\n",
       "      <td>Netherlands</td>\n",
       "      <td>Remote</td>\n",
       "      <td>Netherlands</td>\n",
       "      <td>Small</td>\n",
       "      <td>Engineer</td>\n",
       "    </tr>\n",
       "    <tr>\n",
       "      <th>1</th>\n",
       "      <td>2024</td>\n",
       "      <td>Senior</td>\n",
       "      <td>Full Time</td>\n",
       "      <td>Machine Learning Engineer</td>\n",
       "      <td>70000</td>\n",
       "      <td>EUR</td>\n",
       "      <td>77777</td>\n",
       "      <td>Netherlands</td>\n",
       "      <td>Remote</td>\n",
       "      <td>Netherlands</td>\n",
       "      <td>Small</td>\n",
       "      <td>Engineer</td>\n",
       "    </tr>\n",
       "    <tr>\n",
       "      <th>2</th>\n",
       "      <td>2024</td>\n",
       "      <td>Senior</td>\n",
       "      <td>Full Time</td>\n",
       "      <td>Data Engineer</td>\n",
       "      <td>158200</td>\n",
       "      <td>USD</td>\n",
       "      <td>158200</td>\n",
       "      <td>United States</td>\n",
       "      <td>On-Site</td>\n",
       "      <td>United States</td>\n",
       "      <td>Medium</td>\n",
       "      <td>Engineer</td>\n",
       "    </tr>\n",
       "    <tr>\n",
       "      <th>3</th>\n",
       "      <td>2024</td>\n",
       "      <td>Senior</td>\n",
       "      <td>Full Time</td>\n",
       "      <td>Data Engineer</td>\n",
       "      <td>74100</td>\n",
       "      <td>USD</td>\n",
       "      <td>74100</td>\n",
       "      <td>United States</td>\n",
       "      <td>On-Site</td>\n",
       "      <td>United States</td>\n",
       "      <td>Medium</td>\n",
       "      <td>Engineer</td>\n",
       "    </tr>\n",
       "    <tr>\n",
       "      <th>4</th>\n",
       "      <td>2024</td>\n",
       "      <td>Senior</td>\n",
       "      <td>Full Time</td>\n",
       "      <td>Data Engineer</td>\n",
       "      <td>231400</td>\n",
       "      <td>USD</td>\n",
       "      <td>231400</td>\n",
       "      <td>United States</td>\n",
       "      <td>On-Site</td>\n",
       "      <td>United States</td>\n",
       "      <td>Medium</td>\n",
       "      <td>Engineer</td>\n",
       "    </tr>\n",
       "  </tbody>\n",
       "</table>\n",
       "</div>"
      ],
      "text/plain": [
       "   work_year experience_level employment_type                  job_title  \\\n",
       "0       2024           Senior       Full Time  Machine Learning Engineer   \n",
       "1       2024           Senior       Full Time  Machine Learning Engineer   \n",
       "2       2024           Senior       Full Time              Data Engineer   \n",
       "3       2024           Senior       Full Time              Data Engineer   \n",
       "4       2024           Senior       Full Time              Data Engineer   \n",
       "\n",
       "   salary salary_currency  salary_in_usd employee_residence remote_ratio  \\\n",
       "0  110000             EUR         122222        Netherlands       Remote   \n",
       "1   70000             EUR          77777        Netherlands       Remote   \n",
       "2  158200             USD         158200      United States      On-Site   \n",
       "3   74100             USD          74100      United States      On-Site   \n",
       "4  231400             USD         231400      United States      On-Site   \n",
       "\n",
       "  company_location company_size job_category  \n",
       "0      Netherlands        Small     Engineer  \n",
       "1      Netherlands        Small     Engineer  \n",
       "2    United States       Medium     Engineer  \n",
       "3    United States       Medium     Engineer  \n",
       "4    United States       Medium     Engineer  "
      ]
     },
     "execution_count": 10,
     "metadata": {},
     "output_type": "execute_result"
    }
   ],
   "source": [
    "df.head()"
   ]
  },
  {
   "cell_type": "code",
   "execution_count": 11,
   "metadata": {},
   "outputs": [
    {
     "name": "stdout",
     "output_type": "stream",
     "text": [
      "<class 'pandas.core.frame.DataFrame'>\n",
      "RangeIndex: 16459 entries, 0 to 16458\n",
      "Data columns (total 12 columns):\n",
      " #   Column              Non-Null Count  Dtype \n",
      "---  ------              --------------  ----- \n",
      " 0   work_year           16459 non-null  int64 \n",
      " 1   experience_level    16459 non-null  object\n",
      " 2   employment_type     16459 non-null  object\n",
      " 3   job_title           16459 non-null  object\n",
      " 4   salary              16459 non-null  int64 \n",
      " 5   salary_currency     16459 non-null  object\n",
      " 6   salary_in_usd       16459 non-null  int64 \n",
      " 7   employee_residence  16459 non-null  object\n",
      " 8   remote_ratio        16459 non-null  object\n",
      " 9   company_location    16459 non-null  object\n",
      " 10  company_size        16459 non-null  object\n",
      " 11  job_category        16459 non-null  object\n",
      "dtypes: int64(3), object(9)\n",
      "memory usage: 1.5+ MB\n"
     ]
    }
   ],
   "source": [
    "df.info()"
   ]
  },
  {
   "cell_type": "code",
   "execution_count": 12,
   "metadata": {},
   "outputs": [
    {
     "data": {
      "text/html": [
       "<div>\n",
       "<style scoped>\n",
       "    .dataframe tbody tr th:only-of-type {\n",
       "        vertical-align: middle;\n",
       "    }\n",
       "\n",
       "    .dataframe tbody tr th {\n",
       "        vertical-align: top;\n",
       "    }\n",
       "\n",
       "    .dataframe thead th {\n",
       "        text-align: right;\n",
       "    }\n",
       "</style>\n",
       "<table border=\"1\" class=\"dataframe\">\n",
       "  <thead>\n",
       "    <tr style=\"text-align: right;\">\n",
       "      <th></th>\n",
       "      <th>work_year</th>\n",
       "      <th>salary</th>\n",
       "      <th>salary_in_usd</th>\n",
       "    </tr>\n",
       "  </thead>\n",
       "  <tbody>\n",
       "    <tr>\n",
       "      <th>count</th>\n",
       "      <td>16459.000000</td>\n",
       "      <td>1.645900e+04</td>\n",
       "      <td>16459.000000</td>\n",
       "    </tr>\n",
       "    <tr>\n",
       "      <th>mean</th>\n",
       "      <td>2023.223343</td>\n",
       "      <td>1.640275e+05</td>\n",
       "      <td>149743.697065</td>\n",
       "    </tr>\n",
       "    <tr>\n",
       "      <th>std</th>\n",
       "      <td>0.713266</td>\n",
       "      <td>3.416673e+05</td>\n",
       "      <td>68543.720816</td>\n",
       "    </tr>\n",
       "    <tr>\n",
       "      <th>min</th>\n",
       "      <td>2020.000000</td>\n",
       "      <td>1.400000e+04</td>\n",
       "      <td>15000.000000</td>\n",
       "    </tr>\n",
       "    <tr>\n",
       "      <th>25%</th>\n",
       "      <td>2023.000000</td>\n",
       "      <td>1.020000e+05</td>\n",
       "      <td>101570.000000</td>\n",
       "    </tr>\n",
       "    <tr>\n",
       "      <th>50%</th>\n",
       "      <td>2023.000000</td>\n",
       "      <td>1.422000e+05</td>\n",
       "      <td>141300.000000</td>\n",
       "    </tr>\n",
       "    <tr>\n",
       "      <th>75%</th>\n",
       "      <td>2024.000000</td>\n",
       "      <td>1.874150e+05</td>\n",
       "      <td>185900.000000</td>\n",
       "    </tr>\n",
       "    <tr>\n",
       "      <th>max</th>\n",
       "      <td>2024.000000</td>\n",
       "      <td>3.040000e+07</td>\n",
       "      <td>800000.000000</td>\n",
       "    </tr>\n",
       "  </tbody>\n",
       "</table>\n",
       "</div>"
      ],
      "text/plain": [
       "          work_year        salary  salary_in_usd\n",
       "count  16459.000000  1.645900e+04   16459.000000\n",
       "mean    2023.223343  1.640275e+05  149743.697065\n",
       "std        0.713266  3.416673e+05   68543.720816\n",
       "min     2020.000000  1.400000e+04   15000.000000\n",
       "25%     2023.000000  1.020000e+05  101570.000000\n",
       "50%     2023.000000  1.422000e+05  141300.000000\n",
       "75%     2024.000000  1.874150e+05  185900.000000\n",
       "max     2024.000000  3.040000e+07  800000.000000"
      ]
     },
     "execution_count": 12,
     "metadata": {},
     "output_type": "execute_result"
    }
   ],
   "source": [
    "df.describe()"
   ]
  },
  {
   "cell_type": "code",
   "execution_count": 13,
   "metadata": {},
   "outputs": [],
   "source": [
    "df.to_csv(r\"C:\\Users\\dhiab\\OneDrive\\Bureau\\clean_salary_data1\")"
   ]
  }
 ],
 "metadata": {
  "kernelspec": {
   "display_name": "Python 3",
   "language": "python",
   "name": "python3"
  },
  "language_info": {
   "codemirror_mode": {
    "name": "ipython",
    "version": 3
   },
   "file_extension": ".py",
   "mimetype": "text/x-python",
   "name": "python",
   "nbconvert_exporter": "python",
   "pygments_lexer": "ipython3",
   "version": "3.11.1"
  }
 },
 "nbformat": 4,
 "nbformat_minor": 2
}
